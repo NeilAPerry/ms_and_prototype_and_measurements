{
 "cells": [
  {
   "cell_type": "code",
   "execution_count": 32,
   "metadata": {},
   "outputs": [],
   "source": [
    "def chunk_measurements(measurements):\n",
    "    chunk_length = 5\n",
    "\n",
    "    chunked_measurements = [measurements[i * chunk_length:(i + 1) * chunk_length] for i in range(\n",
    "        (len(measurements) + chunk_length - 1) // chunk_length)]\n",
    "\n",
    "    return chunked_measurements"
   ]
  },
  {
   "cell_type": "code",
   "execution_count": 42,
   "metadata": {},
   "outputs": [],
   "source": [
    "def calc_avgs(measurements):\n",
    "    avgs = {}\n",
    "    for key in measurements[0].keys():\n",
    "        avgs[key] = 0\n",
    "\n",
    "    for measurement in measurements:\n",
    "        for key in avgs.keys():\n",
    "            avgs[key] += measurement[key]\n",
    "            \n",
    "    for key in avgs.keys():\n",
    "        avgs[key] /= len(measurements)\n",
    "        \n",
    "    return avgs"
   ]
  },
  {
   "cell_type": "code",
   "execution_count": 63,
   "metadata": {},
   "outputs": [],
   "source": [
    "def read_data(fp, start_index):\n",
    "    temp_nums = []\n",
    "    \n",
    "    for line in fp:\n",
    "        # skip empty lines (1 for \\n)\n",
    "        if len(line) == 0 or len(line) == 1:\n",
    "            continue\n",
    "\n",
    "        # skip failed attempts\n",
    "        if \"encrypt decrypt failed\" in line or \"begin\" in line:\n",
    "            continue\n",
    "\n",
    "        # remove log info\n",
    "        line = line[start_index:].strip()\n",
    "\n",
    "        # remove end from beginning of line\n",
    "        if \"end\" in line:\n",
    "            line = line[5:]\n",
    "\n",
    "        # extract number from line\n",
    "        line = int(line[:line.index(\" \")])\n",
    "\n",
    "        # save number\n",
    "        temp_nums.append(line)\n",
    "            \n",
    "    # group into measurements\n",
    "    temp_nums = chunk_measurements(temp_nums)\n",
    "\n",
    "    return temp_nums"
   ]
  },
  {
   "cell_type": "code",
   "execution_count": 51,
   "metadata": {},
   "outputs": [],
   "source": [
    "def convert_enc(temp_nums):\n",
    "    measurements = []\n",
    "    # convert each to object\n",
    "    for chunk in temp_nums:\n",
    "        measurement = {\n",
    "            \"aes keygen\": chunk[0],\n",
    "            \"aes encrypt\": chunk[1],\n",
    "            \"elgamal encrypt\": chunk[3],\n",
    "            \"total\": chunk[4]\n",
    "        }\n",
    "        measurements.append(measurement)\n",
    "        \n",
    "    return measurements"
   ]
  },
  {
   "cell_type": "code",
   "execution_count": 54,
   "metadata": {},
   "outputs": [],
   "source": [
    "def convert_dec(temp_nums):\n",
    "    measurements = []\n",
    "    # convert each to object\n",
    "    for chunk in temp_nums:\n",
    "        measurement = {\n",
    "            \"elgamal decrypt\": chunk[1],\n",
    "            \"aes decrypt\": chunk[3],\n",
    "            \"total\": chunk[4]\n",
    "        }\n",
    "        measurements.append(measurement)\n",
    "        \n",
    "    return measurements"
   ]
  },
  {
   "cell_type": "code",
   "execution_count": 65,
   "metadata": {},
   "outputs": [
    {
     "name": "stdout",
     "output_type": "stream",
     "text": [
      "727 Encryption Measurements\n",
      "751 Decryption Measurements\n"
     ]
    },
    {
     "data": {
      "text/plain": [
       "{'aes keygen': 0.6189821182943603,\n",
       " 'aes encrypt': 0.6258596973865199,\n",
       " 'elgamal encrypt': 59.45804676753783,\n",
       " 'total': 60.7111416781293}"
      ]
     },
     "metadata": {},
     "output_type": "display_data"
    },
    {
     "data": {
      "text/plain": [
       "{'elgamal decrypt': 61.81890812250333,\n",
       " 'aes decrypt': 0.4234354194407457,\n",
       " 'total': 62.254327563249}"
      ]
     },
     "metadata": {},
     "output_type": "display_data"
    }
   ],
   "source": [
    "ENC_FILE = \"encrypt_logs.txt\"\n",
    "DEC_FILE = \"decrypt_logs.txt\"\n",
    "DIR_PATH = \"./cryptography_timings/\"\n",
    "\n",
    "enc_measurements = []\n",
    "dec_measurements = []\n",
    "\n",
    "with open(DIR_PATH + ENC_FILE) as fp:\n",
    "    enc_measurements = convert_enc(read_data(fp, 73))\n",
    "    \n",
    "with open(DIR_PATH + DEC_FILE) as fp:\n",
    "    dec_measurements = convert_dec(read_data(fp, 80))\n",
    "\n",
    "\n",
    "# size of data set\n",
    "print(\"{num} Encryption Measurements\".format(num=len(enc_measurements)))\n",
    "print(\"{num} Decryption Measurements\".format(num=len(dec_measurements)))\n",
    "\n",
    "# find averages\n",
    "display(calc_avgs(enc_measurements))\n",
    "display(calc_avgs(dec_measurements))"
   ]
  },
  {
   "cell_type": "code",
   "execution_count": null,
   "metadata": {},
   "outputs": [],
   "source": []
  }
 ],
 "metadata": {
  "kernelspec": {
   "display_name": "Python 3",
   "language": "python",
   "name": "python3"
  },
  "language_info": {
   "codemirror_mode": {
    "name": "ipython",
    "version": 3
   },
   "file_extension": ".py",
   "mimetype": "text/x-python",
   "name": "python",
   "nbconvert_exporter": "python",
   "pygments_lexer": "ipython3",
   "version": "3.8.2"
  }
 },
 "nbformat": 4,
 "nbformat_minor": 4
}

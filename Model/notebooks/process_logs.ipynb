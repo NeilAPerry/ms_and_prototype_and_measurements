{
 "cells": [
  {
   "cell_type": "markdown",
   "metadata": {},
   "source": [
    "# Questions:\n",
    "\n",
    "- [x] What is the average bandwidth of every device? The average of these averages?\n",
    "- [x] What are the distributions of these bandwidths?\n",
    "- [x] What percentage of messages reach everyone?\n",
    "- [x] How long does it take for a message to reach everyone?\n",
    "    - pick a particular msg. x axis is time, y is % of people that have received it\n",
    "- [ ] Do loops ever occur?\n",
    "\n",
    "\n",
    "TODO: add option to turn message expiration on and off in simulator\n",
    "\n",
    "- in real life, you could continue storing the hash of messages past 5 min (in a separate DS like a bloom filter or a much larger bitlist that is not ever shared)\n",
    "\n",
    "---\n",
    "\n",
    "make graph:\n",
    "- x axis: number of people\n",
    "- y axis: 90/5th percentile communication bandwidth\n",
    "\n",
    "    - do this for 3 ft apart, 5 ft apart, etc\n",
    "    \n",
    "make graph:\n",
    "- x: distance apart\n",
    "- y: how many people in network until bandwidth limit is reached"
   ]
  },
  {
   "cell_type": "code",
   "execution_count": 1,
   "metadata": {},
   "outputs": [],
   "source": [
    "import pandas as pd\n",
    "import numpy as np\n",
    "from matplotlib import pyplot as plt\n",
    "import plorts\n",
    "import random"
   ]
  },
  {
   "cell_type": "markdown",
   "metadata": {},
   "source": [
    "## Data Cleaning"
   ]
  },
  {
   "cell_type": "code",
   "execution_count": 93,
   "metadata": {},
   "outputs": [],
   "source": [
    "NUM_DEVICES = 3000\n",
    "NUM_ROUNDS = 3000\n",
    "BITLIST_INTERVAL = 10000\n",
    "MINUTES = 5\n",
    "MOVE = False\n",
    "UNIFORM = True\n",
    "UNIFORM_SPACING = 15\n",
    "SEND_RATE = 30000\n",
    "\n",
    "FILE_PATH = '../python/processing/logs/minutes_{minutes}_numDevices_{num_devices}_bitListInterval_{bitlist_interval}_move_{move}_uniform_{uniform}_uniformSpacing_{uniform_spacing}_sendRate_{send_rate}.csv'.format(\n",
    "    minutes=MINUTES,\n",
    "    num_devices=NUM_DEVICES,\n",
    "    bitlist_interval=BITLIST_INTERVAL,\n",
    "    move=MOVE,\n",
    "    uniform=UNIFORM,\n",
    "    uniform_spacing=UNIFORM_SPACING,\n",
    "    send_rate=SEND_RATE)\n",
    "\n",
    "FIGURES_PATH = './Figures/minutes_{minutes}_numDevices_{num_devices}_bitListInterval_{bitlist_interval}_move_{move}_uniform_{uniform}_uniformSpacing_{uniform_spacing}_sendRate_{send_rate}/'.format(\n",
    "    minutes=MINUTES,\n",
    "    num_devices=NUM_DEVICES,\n",
    "    bitlist_interval=BITLIST_INTERVAL,\n",
    "    move=MOVE,\n",
    "    uniform=UNIFORM,\n",
    "    uniform_spacing=UNIFORM_SPACING,\n",
    "    send_rate=SEND_RATE)\n",
    "\n",
    "# TODO write function that aggregates incoming and outgoing\n",
    "\n",
    "def read_messages(file, usecols=[]):\n",
    "    types = {'sender': 'Int64',\n",
    "             'receiver': 'Int64',\n",
    "             'type': 'str',\n",
    "             'msg_id': 'Int64',\n",
    "             'transmission_id': 'Int64',\n",
    "             'size': 'Int64',\n",
    "             'time': 'Int64',\n",
    "             'sim_id': 'Int64'}\n",
    "\n",
    "    if (len(usecols) == 0):\n",
    "        df = pd.read_csv(file, na_values=['None'], dtype=types, low_memory=False)\n",
    "    else:\n",
    "        df = pd.read_csv(file, na_values=[\n",
    "                         'None'], dtype=types, low_memory=False, usecols=usecols)\n",
    "\n",
    "    return df"
   ]
  },
  {
   "cell_type": "code",
   "execution_count": 4,
   "metadata": {},
   "outputs": [],
   "source": [
    "df = read_messages(FILE_PATH)"
   ]
  },
  {
   "cell_type": "code",
   "execution_count": 5,
   "metadata": {},
   "outputs": [],
   "source": [
    "def get_outgoing_bandwidth(df):\n",
    "    tmp = df[['sender', 'time', 'transimission_id', 'size']]\n",
    "    tmp = tmp.groupby(['sender', 'time', 'transimission_id'], as_index=False).min()\n",
    "    tmp['seconds'] = tmp['time'] // 1000 # if this doesn't round down do .apply(np.floor)\n",
    "    tmp = tmp.groupby(['sender', 'seconds']).sum()\n",
    "    tmp = tmp.reset_index()\n",
    "    result = tmp[['sender', 'seconds', 'size']].copy()\n",
    "    result.columns = ['Device', 'Seconds', 'Bytes']\n",
    "    result['MB'] = result['Bytes'] / 1000000\n",
    "    return result\n",
    "\n",
    "outgoing = get_outgoing_bandwidth(df)"
   ]
  },
  {
   "cell_type": "code",
   "execution_count": 6,
   "metadata": {},
   "outputs": [],
   "source": [
    "def get_incoming_bandwidth(df):\n",
    "    tmp = df[['receiver', 'time', 'size']].copy()\n",
    "    tmp['seconds'] = tmp['time'] // 1000\n",
    "    tmp = tmp.groupby(['receiver', 'seconds']).sum()\n",
    "    tmp = tmp.reset_index()\n",
    "    result = tmp[['receiver', 'seconds', 'size']].copy()\n",
    "    result.columns = ['Device', 'Seconds', 'Bytes']\n",
    "    result['MB'] = result['Bytes'] / 1000000\n",
    "    return result"
   ]
  },
  {
   "cell_type": "code",
   "execution_count": 8,
   "metadata": {},
   "outputs": [],
   "source": [
    "def read_incoming_bandwidth(file_path):\n",
    "    df = read_messages(file_path, usecols=['receiver', 'time', 'size'])\n",
    "    \n",
    "    df.loc[:,'time'] = df['time'] // 1000\n",
    "    df = df.groupby(['receiver', 'time']).sum()\n",
    "    df = df.reset_index()\n",
    "    df.loc[:,'size'] = df['size'] / 1000000\n",
    "    df.columns = ['Device', 'Seconds', 'MB']\n",
    "    return df\n",
    "    "
   ]
  },
  {
   "cell_type": "code",
   "execution_count": 28,
   "metadata": {},
   "outputs": [],
   "source": [
    "def process_incoming_chunk(df):\n",
    "    df.loc[:,'time'] = df['time'] // 1000\n",
    "    df = df.groupby(['receiver', 'time']).sum()\n",
    "    df = df.reset_index()\n",
    "    df.columns = ['Device', 'Seconds', 'Bytes']\n",
    "    return df\n",
    "\n",
    "def read_incoming_bandwidth_chunked(file_path):\n",
    "    types = {'sender': 'Int64',\n",
    "             'receiver': 'Int64',\n",
    "             'type': 'str',\n",
    "             'msg_id': 'Int64',\n",
    "             'transmission_id': 'Int64',\n",
    "             'size': 'Int64',\n",
    "             'time': 'Int64',\n",
    "             'sim_id': 'Int64'}\n",
    "\n",
    "    dfs = []\n",
    "    chunksize = 10 ** 6\n",
    "    with pd.read_csv(file_path, chunksize=chunksize, usecols=['receiver', 'time', 'size'], dtype=types) as reader:\n",
    "        for chunk in reader:\n",
    "            dfs += [process_incoming_chunk(chunk)]\n",
    "    \n",
    "    # To handle duplicate (Device, Seconds) key pairs in two dfs (msg split across chunks), sum them.\n",
    "    # i.e. for stitching, just concat them all together, do another identical groupby and sum.\n",
    "    # Do this on Bytes and then convert to MB to avoid floating point problems.\n",
    "    df = pd.concat(dfs)\n",
    "    df = df.groupby(['Device', 'Seconds']).sum()\n",
    "    df = df.reset_index()\n",
    "    df.loc[:,'Bytes'] = df['Bytes'] / 1000000\n",
    "    df.rename(columns = {'Bytes':'MB'}, inplace = True) \n",
    "    return df\n"
   ]
  },
  {
   "cell_type": "code",
   "execution_count": 27,
   "metadata": {},
   "outputs": [
    {
     "data": {
      "text/plain": [
       "True"
      ]
     },
     "metadata": {},
     "output_type": "display_data"
    },
    {
     "data": {
      "text/plain": [
       "True"
      ]
     },
     "metadata": {},
     "output_type": "display_data"
    }
   ],
   "source": [
    "df = read_messages(FILE_PATH)\n",
    "in1 = get_incoming_bandwidth(df)\n",
    "in2 = read_incoming_bandwidth(FILE_PATH)\n",
    "in3 = read_incoming_bandwidth_chunked(FILE_PATH)\n",
    "\n",
    "display(in2.equals(in1[['Device', 'Seconds', 'MB']]))\n",
    "display(in3.equals(in1[['Device', 'Seconds', 'MB']]))"
   ]
  },
  {
   "cell_type": "code",
   "execution_count": 31,
   "metadata": {},
   "outputs": [],
   "source": [
    "def read_outgoing_bandwidth(file_path):\n",
    "    df = read_messages(file_path, usecols=['sender', 'time', 'transimission_id', 'size'])\n",
    "    df = df.groupby(['sender', 'time', 'transimission_id'], as_index=False).min()\n",
    "    df.loc[:,'time'] = df['time'] // 1000\n",
    "    df = df.groupby(['sender', 'time']).sum()\n",
    "    df = df.reset_index()\n",
    "    df.drop(['transimission_id'], axis=1, inplace=True)\n",
    "    df.columns = ['Device', 'Seconds', 'Bytes']\n",
    "    df.loc[:,'Bytes'] = df['Bytes'] / 1000000\n",
    "    df.rename(columns = {'Bytes':'MB'}, inplace = True)\n",
    "    \n",
    "    return df"
   ]
  },
  {
   "cell_type": "code",
   "execution_count": 69,
   "metadata": {},
   "outputs": [],
   "source": [
    "def process_outgoing_chunk(df):\n",
    "    df = df.groupby(['sender', 'time', 'transimission_id'], as_index=False).min()\n",
    "    df.loc[:,'time'] = df['time'] // 1000\n",
    "    df = df.groupby(['sender', 'time']).sum()\n",
    "    df = df.reset_index()\n",
    "    df.drop(['transimission_id'], axis=1, inplace=True)\n",
    "    df.columns = ['Device', 'Seconds', 'Bytes']\n",
    "    return df\n",
    "\n",
    "def read_outgoing_bandwidth_chunked(file_path):\n",
    "    types = {'sender': 'Int64',\n",
    "             'receiver': 'Int64',\n",
    "             'type': 'str',\n",
    "             'msg_id': 'Int64',\n",
    "             'transmission_id': 'Int64',\n",
    "             'size': 'Int64',\n",
    "             'time': 'Int64',\n",
    "             'sim_id': 'Int64'}\n",
    "\n",
    "    dfs = []\n",
    "    chunksize = 10 ** 6\n",
    "    with pd.read_csv(file_path, chunksize=chunksize, usecols=['sender', 'time', 'transimission_id', 'size'], dtype=types) as reader:\n",
    "        prev = pd.DataFrame()\n",
    "        for chunk in reader:\n",
    "            # problems happen if a transmission id is split across chunks\n",
    "            if (prev.empty):\n",
    "                prev = chunk\n",
    "                continue\n",
    "            else:\n",
    "                # check if a transmission is split across 2 chunks\n",
    "                last_prev_id = prev.iloc[-1]['transimission_id']\n",
    "                first_chunk_id = chunk.iloc[0]['transimission_id']\n",
    "\n",
    "                if (last_prev_id == first_chunk_id):\n",
    "                \n",
    "                    chunk = pd.concat([prev[prev['transimission_id'] == last_prev_id], chunk])\n",
    "                    prev = prev[prev['transimission_id'] != last_prev_id]\n",
    "                    dfs += [process_outgoing_chunk(prev)]\n",
    "                    prev = chunk\n",
    "                    \n",
    "                else:\n",
    "                    dfs += [process_outgoing_chunk(prev)]\n",
    "                    prev = chunk\n",
    "            \n",
    "        dfs += [process_outgoing_chunk(chunk)]\n",
    "    \n",
    "    # To handle duplicate (Device, Seconds) key pairs in two dfs (msg split across chunks), sum them.\n",
    "    # i.e. for stitching, just concat them all together, do another identical groupby and sum.\n",
    "    # Do this on Bytes and then convert to MB to avoid floating point problems.\n",
    "    df = pd.concat(dfs)\n",
    "    df = df.groupby(['Device', 'Seconds']).sum()\n",
    "    df = df.reset_index()\n",
    "    df.loc[:,'Bytes'] = df['Bytes'] / 1000000\n",
    "    df.rename(columns = {'Bytes':'MB'}, inplace = True)\n",
    "    \n",
    "    return df\n"
   ]
  },
  {
   "cell_type": "code",
   "execution_count": 70,
   "metadata": {},
   "outputs": [
    {
     "data": {
      "text/plain": [
       "True"
      ]
     },
     "metadata": {},
     "output_type": "display_data"
    },
    {
     "data": {
      "text/plain": [
       "True"
      ]
     },
     "metadata": {},
     "output_type": "display_data"
    }
   ],
   "source": [
    "# df = read_messages(FILE_PATH)\n",
    "# out1 = get_outgoing_bandwidth(df)\n",
    "# out2 = read_outgoing_bandwidth(FILE_PATH)\n",
    "# out3 = read_outgoing_bandwidth_chunked(FILE_PATH)\n",
    "\n",
    "# display(out2.equals(out1[['Device', 'Seconds', 'MB']]))\n",
    "# display(out3.equals(out1[['Device', 'Seconds', 'MB']]))"
   ]
  },
  {
   "cell_type": "code",
   "execution_count": 94,
   "metadata": {},
   "outputs": [],
   "source": [
    "in3 = read_incoming_bandwidth_chunked(FILE_PATH)\n",
    "out3 = read_outgoing_bandwidth_chunked(FILE_PATH)"
   ]
  },
  {
   "cell_type": "code",
   "execution_count": 103,
   "metadata": {},
   "outputs": [
    {
     "data": {
      "text/html": [
       "<div>\n",
       "<style scoped>\n",
       "    .dataframe tbody tr th:only-of-type {\n",
       "        vertical-align: middle;\n",
       "    }\n",
       "\n",
       "    .dataframe tbody tr th {\n",
       "        vertical-align: top;\n",
       "    }\n",
       "\n",
       "    .dataframe thead th {\n",
       "        text-align: right;\n",
       "    }\n",
       "</style>\n",
       "<table border=\"1\" class=\"dataframe\">\n",
       "  <thead>\n",
       "    <tr style=\"text-align: right;\">\n",
       "      <th></th>\n",
       "      <th>Device</th>\n",
       "      <th>Seconds</th>\n",
       "      <th>MB</th>\n",
       "    </tr>\n",
       "  </thead>\n",
       "  <tbody>\n",
       "    <tr>\n",
       "      <th>0</th>\n",
       "      <td>0</td>\n",
       "      <td>1</td>\n",
       "      <td>0.000098</td>\n",
       "    </tr>\n",
       "    <tr>\n",
       "      <th>1</th>\n",
       "      <td>0</td>\n",
       "      <td>2</td>\n",
       "      <td>0.007778</td>\n",
       "    </tr>\n",
       "    <tr>\n",
       "      <th>2</th>\n",
       "      <td>0</td>\n",
       "      <td>3</td>\n",
       "      <td>0.007296</td>\n",
       "    </tr>\n",
       "    <tr>\n",
       "      <th>3</th>\n",
       "      <td>0</td>\n",
       "      <td>4</td>\n",
       "      <td>0.000050</td>\n",
       "    </tr>\n",
       "    <tr>\n",
       "      <th>4</th>\n",
       "      <td>0</td>\n",
       "      <td>8</td>\n",
       "      <td>0.000100</td>\n",
       "    </tr>\n",
       "    <tr>\n",
       "      <th>...</th>\n",
       "      <td>...</td>\n",
       "      <td>...</td>\n",
       "      <td>...</td>\n",
       "    </tr>\n",
       "    <tr>\n",
       "      <th>799767</th>\n",
       "      <td>2999</td>\n",
       "      <td>292</td>\n",
       "      <td>0.001328</td>\n",
       "    </tr>\n",
       "    <tr>\n",
       "      <th>799768</th>\n",
       "      <td>2999</td>\n",
       "      <td>293</td>\n",
       "      <td>0.228740</td>\n",
       "    </tr>\n",
       "    <tr>\n",
       "      <th>799769</th>\n",
       "      <td>2999</td>\n",
       "      <td>294</td>\n",
       "      <td>0.024957</td>\n",
       "    </tr>\n",
       "    <tr>\n",
       "      <th>799770</th>\n",
       "      <td>2999</td>\n",
       "      <td>295</td>\n",
       "      <td>0.032867</td>\n",
       "    </tr>\n",
       "    <tr>\n",
       "      <th>799771</th>\n",
       "      <td>2999</td>\n",
       "      <td>296</td>\n",
       "      <td>0.015509</td>\n",
       "    </tr>\n",
       "  </tbody>\n",
       "</table>\n",
       "<p>799772 rows × 3 columns</p>\n",
       "</div>"
      ],
      "text/plain": [
       "        Device  Seconds        MB\n",
       "0            0        1  0.000098\n",
       "1            0        2  0.007778\n",
       "2            0        3  0.007296\n",
       "3            0        4  0.000050\n",
       "4            0        8  0.000100\n",
       "...        ...      ...       ...\n",
       "799767    2999      292  0.001328\n",
       "799768    2999      293  0.228740\n",
       "799769    2999      294  0.024957\n",
       "799770    2999      295  0.032867\n",
       "799771    2999      296  0.015509\n",
       "\n",
       "[799772 rows x 3 columns]"
      ]
     },
     "metadata": {},
     "output_type": "display_data"
    }
   ],
   "source": [
    "def combine_in_out(in_df, out_df):    \n",
    "    combined = pd.concat([in_df, out_df])\n",
    "    combined = combined.groupby(['Device', 'Seconds']).sum()\n",
    "    combined = combined.reset_index()\n",
    "    return combined\n",
    "\n",
    "res = combine_in_out(in3, out3)\n",
    "display(res)"
   ]
  },
  {
   "cell_type": "markdown",
   "metadata": {},
   "source": [
    "## Sanity Check"
   ]
  },
  {
   "cell_type": "code",
   "execution_count": 7,
   "metadata": {},
   "outputs": [],
   "source": [
    "def verify_activity_at_all_rounds(df):\n",
    "    for i in range(0, NUM_ROUNDS * 100, 100):\n",
    "        if (len(df[df['time'] == i]) == 0):\n",
    "            print('no activity at time {time}'.format(time=i))"
   ]
  },
  {
   "cell_type": "code",
   "execution_count": 8,
   "metadata": {},
   "outputs": [],
   "source": [
    "# verify_activity_at_all_rounds(df)"
   ]
  },
  {
   "cell_type": "markdown",
   "metadata": {},
   "source": [
    "## Bandwidth Summary"
   ]
  },
  {
   "cell_type": "code",
   "execution_count": 93,
   "metadata": {},
   "outputs": [],
   "source": [
    "def print_statistics(bandwidths):\n",
    "    avg_bandwidth = bandwidths['MB'].mean()\n",
    "    min_bandwidth = bandwidths['MB'].min()\n",
    "    max_bandwidth = bandwidths['MB'].max()\n",
    "\n",
    "    print('Average MB/sec: {b}'.format(b=avg_bandwidth))\n",
    "    print('Min MB/sec: {b}'.format(b=min_bandwidth))\n",
    "    print('Max MB/sec: {b}'.format(b=max_bandwidth))"
   ]
  },
  {
   "cell_type": "code",
   "execution_count": 149,
   "metadata": {},
   "outputs": [],
   "source": [
    "def plot_bandwidth_pdf(df, col, bins, direction):\n",
    "    fig = plt.figure()\n",
    "    ax = fig.add_subplot(1, 1, 1)\n",
    "    ax.set_xlabel(col)\n",
    "    ax.set_ylabel('% Data')\n",
    "    ax.set_title('{direction} PDF'.format(direction=direction))\n",
    "    \n",
    "    ys, xs = np.histogram(df[col], bins=bins)\n",
    "    ys = np.array(ys) / sum(ys) * 100\n",
    "    \n",
    "    plt.plot(xs[:-1], ys) # ignore end of last bucket\n",
    "    \n",
    "    plt.savefig(FIGURES_PATH + '{direction}_bandwidth_pdf.png'.format(direction=direction))\n",
    "    \n",
    "    plt.show()\n",
    "    "
   ]
  },
  {
   "cell_type": "code",
   "execution_count": 151,
   "metadata": {},
   "outputs": [],
   "source": [
    "def plot_bandwidth_cdf(df, col, direction):\n",
    "    fig = plt.figure()\n",
    "    ax = fig.add_subplot(1, 1, 1)\n",
    "    ax.set_xlabel(col)\n",
    "    ax.set_ylabel('% Data')\n",
    "    ax.set_title('{direction} PDF'.format(direction=direction))\n",
    "    \n",
    "    sorted_data = np.sort(df[col])\n",
    "    sorted_data_cdf = np.arange(len(sorted_data))/float(len(sorted_data)) * 100 \n",
    "    plt.plot(sorted_data, sorted_data_cdf)\n",
    "    \n",
    "    plt.savefig(FIGURES_PATH + '{direction}_bandwidth_cdf.png'.format(direction=direction))\n",
    "    \n",
    "    plt.show()\n",
    "    "
   ]
  },
  {
   "cell_type": "markdown",
   "metadata": {},
   "source": [
    "### Incoming"
   ]
  },
  {
   "cell_type": "code",
   "execution_count": 94,
   "metadata": {},
   "outputs": [
    {
     "name": "stdout",
     "output_type": "stream",
     "text": [
      "Average MB/sec: 0.048424157634303876\n",
      "Min MB/sec: 4.9e-05\n",
      "Max MB/sec: 0.427556\n"
     ]
    }
   ],
   "source": [
    "print_statistics(incoming)"
   ]
  },
  {
   "cell_type": "code",
   "execution_count": 150,
   "metadata": {},
   "outputs": [
    {
     "data": {
      "image/png": "[encoded data removed]",
      "text/plain": [
       "<Figure size 432x288 with 1 Axes>"
      ]
     },
     "metadata": {
      "needs_background": "light"
     },
     "output_type": "display_data"
    }
   ],
   "source": [
    "plot_bandwidth_pdf(incoming, 'MB', 30, 'Incoming')"
   ]
  },
  {
   "cell_type": "code",
   "execution_count": 154,
   "metadata": {},
   "outputs": [
    {
     "data": {
      "image/png": "[encoded data removed]",
      "text/plain": [
       "<Figure size 432x288 with 1 Axes>"
      ]
     },
     "metadata": {
      "needs_background": "light"
     },
     "output_type": "display_data"
    }
   ],
   "source": [
    "plot_bandwidth_cdf(incoming, 'MB', 'Incoming')"
   ]
  },
  {
   "cell_type": "markdown",
   "metadata": {},
   "source": [
    "### Outgoing"
   ]
  },
  {
   "cell_type": "code",
   "execution_count": 97,
   "metadata": {},
   "outputs": [
    {
     "name": "stdout",
     "output_type": "stream",
     "text": [
      "Average MB/sec: 0.008671776786835034\n",
      "Min MB/sec: 4.9e-05\n",
      "Max MB/sec: 0.143616\n"
     ]
    }
   ],
   "source": [
    "print_statistics(outgoing)"
   ]
  },
  {
   "cell_type": "code",
   "execution_count": 146,
   "metadata": {},
   "outputs": [
    {
     "data": {
      "image/png": "[encoded data removed]",
      "text/plain": [
       "<Figure size 432x288 with 1 Axes>"
      ]
     },
     "metadata": {
      "needs_background": "light"
     },
     "output_type": "display_data"
    }
   ],
   "source": [
    "plot_bandwidth_pdf(outgoing, 'MB', 30, 'Outgoing')"
   ]
  },
  {
   "cell_type": "code",
   "execution_count": 155,
   "metadata": {},
   "outputs": [
    {
     "data": {
      "image/png": "[encoded data removed]",
      "text/plain": [
       "<Figure size 432x288 with 1 Axes>"
      ]
     },
     "metadata": {
      "needs_background": "light"
     },
     "output_type": "display_data"
    }
   ],
   "source": [
    "plot_bandwidth_cdf(outgoing, 'MB', 'Outgoing')"
   ]
  },
  {
   "cell_type": "markdown",
   "metadata": {},
   "source": [
    "## Message Delivery Percentage"
   ]
  },
  {
   "cell_type": "code",
   "execution_count": 14,
   "metadata": {},
   "outputs": [],
   "source": [
    "devices = set(np.array(df['sender']))\n",
    "msg_ids = set(np.array(df['msg_id']))\n",
    "\n",
    "msg_ids.remove(pd.NA)"
   ]
  },
  {
   "cell_type": "code",
   "execution_count": 15,
   "metadata": {},
   "outputs": [
    {
     "ename": "KeyboardInterrupt",
     "evalue": "",
     "output_type": "error",
     "traceback": [
      "\u001b[0;31m---------------------------------------------------------------------------\u001b[0m",
      "\u001b[0;31mKeyboardInterrupt\u001b[0m                         Traceback (most recent call last)",
      "\u001b[0;32m<ipython-input-15-72231f6d3f36>\u001b[0m in \u001b[0;36m<module>\u001b[0;34m\u001b[0m\n\u001b[1;32m      3\u001b[0m \u001b[0;32mfor\u001b[0m \u001b[0mmsg_id\u001b[0m \u001b[0;32min\u001b[0m \u001b[0mmsg_ids\u001b[0m\u001b[0;34m:\u001b[0m\u001b[0;34m\u001b[0m\u001b[0;34m\u001b[0m\u001b[0m\n\u001b[1;32m      4\u001b[0m     \u001b[0;32mfor\u001b[0m \u001b[0mreceiver\u001b[0m \u001b[0;32min\u001b[0m \u001b[0mdevices\u001b[0m\u001b[0;34m:\u001b[0m\u001b[0;34m\u001b[0m\u001b[0;34m\u001b[0m\u001b[0m\n\u001b[0;32m----> 5\u001b[0;31m         \u001b[0mentries\u001b[0m \u001b[0;34m=\u001b[0m \u001b[0mdf\u001b[0m\u001b[0;34m[\u001b[0m\u001b[0;34m(\u001b[0m\u001b[0mdf\u001b[0m\u001b[0;34m[\u001b[0m\u001b[0;34m'receiver'\u001b[0m\u001b[0;34m]\u001b[0m \u001b[0;34m==\u001b[0m \u001b[0mreceiver\u001b[0m\u001b[0;34m)\u001b[0m \u001b[0;34m&\u001b[0m \u001b[0;34m(\u001b[0m\u001b[0mdf\u001b[0m\u001b[0;34m[\u001b[0m\u001b[0;34m'msg_id'\u001b[0m\u001b[0;34m]\u001b[0m \u001b[0;34m==\u001b[0m \u001b[0mmsg_id\u001b[0m\u001b[0;34m)\u001b[0m\u001b[0;34m]\u001b[0m\u001b[0;34m\u001b[0m\u001b[0;34m\u001b[0m\u001b[0m\n\u001b[0m\u001b[1;32m      6\u001b[0m         \u001b[0;32mif\u001b[0m \u001b[0;34m(\u001b[0m\u001b[0mlen\u001b[0m\u001b[0;34m(\u001b[0m\u001b[0mentries\u001b[0m\u001b[0;34m)\u001b[0m \u001b[0;34m==\u001b[0m \u001b[0;36m0\u001b[0m\u001b[0;34m)\u001b[0m\u001b[0;34m:\u001b[0m\u001b[0;34m\u001b[0m\u001b[0;34m\u001b[0m\u001b[0m\n\u001b[1;32m      7\u001b[0m             \u001b[0;32mif\u001b[0m \u001b[0;34m(\u001b[0m\u001b[0mmsg_id\u001b[0m \u001b[0;32min\u001b[0m \u001b[0mmissing\u001b[0m\u001b[0;34m)\u001b[0m\u001b[0;34m:\u001b[0m\u001b[0;34m\u001b[0m\u001b[0;34m\u001b[0m\u001b[0m\n",
      "\u001b[0;32m~/Library/Python/3.8/lib/python/site-packages/pandas/core/ops/common.py\u001b[0m in \u001b[0;36mnew_method\u001b[0;34m(self, other)\u001b[0m\n\u001b[1;32m     63\u001b[0m         \u001b[0mother\u001b[0m \u001b[0;34m=\u001b[0m \u001b[0mitem_from_zerodim\u001b[0m\u001b[0;34m(\u001b[0m\u001b[0mother\u001b[0m\u001b[0;34m)\u001b[0m\u001b[0;34m\u001b[0m\u001b[0;34m\u001b[0m\u001b[0m\n\u001b[1;32m     64\u001b[0m \u001b[0;34m\u001b[0m\u001b[0m\n\u001b[0;32m---> 65\u001b[0;31m         \u001b[0;32mreturn\u001b[0m \u001b[0mmethod\u001b[0m\u001b[0;34m(\u001b[0m\u001b[0mself\u001b[0m\u001b[0;34m,\u001b[0m \u001b[0mother\u001b[0m\u001b[0;34m)\u001b[0m\u001b[0;34m\u001b[0m\u001b[0;34m\u001b[0m\u001b[0m\n\u001b[0m\u001b[1;32m     66\u001b[0m \u001b[0;34m\u001b[0m\u001b[0m\n\u001b[1;32m     67\u001b[0m     \u001b[0;32mreturn\u001b[0m \u001b[0mnew_method\u001b[0m\u001b[0;34m\u001b[0m\u001b[0;34m\u001b[0m\u001b[0m\n",
      "\u001b[0;32m~/Library/Python/3.8/lib/python/site-packages/pandas/core/arraylike.py\u001b[0m in \u001b[0;36m__and__\u001b[0;34m(self, other)\u001b[0m\n\u001b[1;32m     57\u001b[0m     \u001b[0;34m@\u001b[0m\u001b[0munpack_zerodim_and_defer\u001b[0m\u001b[0;34m(\u001b[0m\u001b[0;34m\"__and__\"\u001b[0m\u001b[0;34m)\u001b[0m\u001b[0;34m\u001b[0m\u001b[0;34m\u001b[0m\u001b[0m\n\u001b[1;32m     58\u001b[0m     \u001b[0;32mdef\u001b[0m \u001b[0m__and__\u001b[0m\u001b[0;34m(\u001b[0m\u001b[0mself\u001b[0m\u001b[0;34m,\u001b[0m \u001b[0mother\u001b[0m\u001b[0;34m)\u001b[0m\u001b[0;34m:\u001b[0m\u001b[0;34m\u001b[0m\u001b[0;34m\u001b[0m\u001b[0m\n\u001b[0;32m---> 59\u001b[0;31m         \u001b[0;32mreturn\u001b[0m \u001b[0mself\u001b[0m\u001b[0;34m.\u001b[0m\u001b[0m_logical_method\u001b[0m\u001b[0;34m(\u001b[0m\u001b[0mother\u001b[0m\u001b[0;34m,\u001b[0m \u001b[0moperator\u001b[0m\u001b[0;34m.\u001b[0m\u001b[0mand_\u001b[0m\u001b[0;34m)\u001b[0m\u001b[0;34m\u001b[0m\u001b[0;34m\u001b[0m\u001b[0m\n\u001b[0m\u001b[1;32m     60\u001b[0m \u001b[0;34m\u001b[0m\u001b[0m\n\u001b[1;32m     61\u001b[0m     \u001b[0;34m@\u001b[0m\u001b[0munpack_zerodim_and_defer\u001b[0m\u001b[0;34m(\u001b[0m\u001b[0;34m\"__rand__\"\u001b[0m\u001b[0;34m)\u001b[0m\u001b[0;34m\u001b[0m\u001b[0;34m\u001b[0m\u001b[0m\n",
      "\u001b[0;32m~/Library/Python/3.8/lib/python/site-packages/pandas/core/series.py\u001b[0m in \u001b[0;36m_logical_method\u001b[0;34m(self, other, op)\u001b[0m\n\u001b[1;32m   4948\u001b[0m         \u001b[0mrvalues\u001b[0m \u001b[0;34m=\u001b[0m \u001b[0mextract_array\u001b[0m\u001b[0;34m(\u001b[0m\u001b[0mother\u001b[0m\u001b[0;34m,\u001b[0m \u001b[0mextract_numpy\u001b[0m\u001b[0;34m=\u001b[0m\u001b[0;32mTrue\u001b[0m\u001b[0;34m)\u001b[0m\u001b[0;34m\u001b[0m\u001b[0;34m\u001b[0m\u001b[0m\n\u001b[1;32m   4949\u001b[0m \u001b[0;34m\u001b[0m\u001b[0m\n\u001b[0;32m-> 4950\u001b[0;31m         \u001b[0mres_values\u001b[0m \u001b[0;34m=\u001b[0m \u001b[0mops\u001b[0m\u001b[0;34m.\u001b[0m\u001b[0mlogical_op\u001b[0m\u001b[0;34m(\u001b[0m\u001b[0mlvalues\u001b[0m\u001b[0;34m,\u001b[0m \u001b[0mrvalues\u001b[0m\u001b[0;34m,\u001b[0m \u001b[0mop\u001b[0m\u001b[0;34m)\u001b[0m\u001b[0;34m\u001b[0m\u001b[0;34m\u001b[0m\u001b[0m\n\u001b[0m\u001b[1;32m   4951\u001b[0m         \u001b[0;32mreturn\u001b[0m \u001b[0mself\u001b[0m\u001b[0;34m.\u001b[0m\u001b[0m_construct_result\u001b[0m\u001b[0;34m(\u001b[0m\u001b[0mres_values\u001b[0m\u001b[0;34m,\u001b[0m \u001b[0mname\u001b[0m\u001b[0;34m=\u001b[0m\u001b[0mres_name\u001b[0m\u001b[0;34m)\u001b[0m\u001b[0;34m\u001b[0m\u001b[0;34m\u001b[0m\u001b[0m\n\u001b[1;32m   4952\u001b[0m \u001b[0;34m\u001b[0m\u001b[0m\n",
      "\u001b[0;32m~/Library/Python/3.8/lib/python/site-packages/pandas/core/ops/array_ops.py\u001b[0m in \u001b[0;36mlogical_op\u001b[0;34m(left, right, op)\u001b[0m\n\u001b[1;32m    338\u001b[0m     \u001b[0;32mif\u001b[0m \u001b[0mshould_extension_dispatch\u001b[0m\u001b[0;34m(\u001b[0m\u001b[0mlvalues\u001b[0m\u001b[0;34m,\u001b[0m \u001b[0mrvalues\u001b[0m\u001b[0;34m)\u001b[0m\u001b[0;34m:\u001b[0m\u001b[0;34m\u001b[0m\u001b[0;34m\u001b[0m\u001b[0m\n\u001b[1;32m    339\u001b[0m         \u001b[0;31m# Call the method on lvalues\u001b[0m\u001b[0;34m\u001b[0m\u001b[0;34m\u001b[0m\u001b[0;34m\u001b[0m\u001b[0m\n\u001b[0;32m--> 340\u001b[0;31m         \u001b[0mres_values\u001b[0m \u001b[0;34m=\u001b[0m \u001b[0mop\u001b[0m\u001b[0;34m(\u001b[0m\u001b[0mlvalues\u001b[0m\u001b[0;34m,\u001b[0m \u001b[0mrvalues\u001b[0m\u001b[0;34m)\u001b[0m\u001b[0;34m\u001b[0m\u001b[0;34m\u001b[0m\u001b[0m\n\u001b[0m\u001b[1;32m    341\u001b[0m \u001b[0;34m\u001b[0m\u001b[0m\n\u001b[1;32m    342\u001b[0m     \u001b[0;32melse\u001b[0m\u001b[0;34m:\u001b[0m\u001b[0;34m\u001b[0m\u001b[0;34m\u001b[0m\u001b[0m\n",
      "\u001b[0;32m~/Library/Python/3.8/lib/python/site-packages/pandas/core/ops/common.py\u001b[0m in \u001b[0;36mnew_method\u001b[0;34m(self, other)\u001b[0m\n\u001b[1;32m     63\u001b[0m         \u001b[0mother\u001b[0m \u001b[0;34m=\u001b[0m \u001b[0mitem_from_zerodim\u001b[0m\u001b[0;34m(\u001b[0m\u001b[0mother\u001b[0m\u001b[0;34m)\u001b[0m\u001b[0;34m\u001b[0m\u001b[0;34m\u001b[0m\u001b[0m\n\u001b[1;32m     64\u001b[0m \u001b[0;34m\u001b[0m\u001b[0m\n\u001b[0;32m---> 65\u001b[0;31m         \u001b[0;32mreturn\u001b[0m \u001b[0mmethod\u001b[0m\u001b[0;34m(\u001b[0m\u001b[0mself\u001b[0m\u001b[0;34m,\u001b[0m \u001b[0mother\u001b[0m\u001b[0;34m)\u001b[0m\u001b[0;34m\u001b[0m\u001b[0;34m\u001b[0m\u001b[0m\n\u001b[0m\u001b[1;32m     66\u001b[0m \u001b[0;34m\u001b[0m\u001b[0m\n\u001b[1;32m     67\u001b[0m     \u001b[0;32mreturn\u001b[0m \u001b[0mnew_method\u001b[0m\u001b[0;34m\u001b[0m\u001b[0;34m\u001b[0m\u001b[0m\n",
      "\u001b[0;32m~/Library/Python/3.8/lib/python/site-packages/pandas/core/arraylike.py\u001b[0m in \u001b[0;36m__and__\u001b[0;34m(self, other)\u001b[0m\n\u001b[1;32m     57\u001b[0m     \u001b[0;34m@\u001b[0m\u001b[0munpack_zerodim_and_defer\u001b[0m\u001b[0;34m(\u001b[0m\u001b[0;34m\"__and__\"\u001b[0m\u001b[0;34m)\u001b[0m\u001b[0;34m\u001b[0m\u001b[0;34m\u001b[0m\u001b[0m\n\u001b[1;32m     58\u001b[0m     \u001b[0;32mdef\u001b[0m \u001b[0m__and__\u001b[0m\u001b[0;34m(\u001b[0m\u001b[0mself\u001b[0m\u001b[0;34m,\u001b[0m \u001b[0mother\u001b[0m\u001b[0;34m)\u001b[0m\u001b[0;34m:\u001b[0m\u001b[0;34m\u001b[0m\u001b[0;34m\u001b[0m\u001b[0m\n\u001b[0;32m---> 59\u001b[0;31m         \u001b[0;32mreturn\u001b[0m \u001b[0mself\u001b[0m\u001b[0;34m.\u001b[0m\u001b[0m_logical_method\u001b[0m\u001b[0;34m(\u001b[0m\u001b[0mother\u001b[0m\u001b[0;34m,\u001b[0m \u001b[0moperator\u001b[0m\u001b[0;34m.\u001b[0m\u001b[0mand_\u001b[0m\u001b[0;34m)\u001b[0m\u001b[0;34m\u001b[0m\u001b[0;34m\u001b[0m\u001b[0m\n\u001b[0m\u001b[1;32m     60\u001b[0m \u001b[0;34m\u001b[0m\u001b[0m\n\u001b[1;32m     61\u001b[0m     \u001b[0;34m@\u001b[0m\u001b[0munpack_zerodim_and_defer\u001b[0m\u001b[0;34m(\u001b[0m\u001b[0;34m\"__rand__\"\u001b[0m\u001b[0;34m)\u001b[0m\u001b[0;34m\u001b[0m\u001b[0;34m\u001b[0m\u001b[0m\n",
      "\u001b[0;32m~/Library/Python/3.8/lib/python/site-packages/pandas/core/arrays/boolean.py\u001b[0m in \u001b[0;36m_logical_method\u001b[0;34m(self, other, op)\u001b[0m\n\u001b[1;32m    591\u001b[0m             \u001b[0mresult\u001b[0m\u001b[0;34m,\u001b[0m \u001b[0mmask\u001b[0m \u001b[0;34m=\u001b[0m \u001b[0mops\u001b[0m\u001b[0;34m.\u001b[0m\u001b[0mkleene_or\u001b[0m\u001b[0;34m(\u001b[0m\u001b[0mself\u001b[0m\u001b[0;34m.\u001b[0m\u001b[0m_data\u001b[0m\u001b[0;34m,\u001b[0m \u001b[0mother\u001b[0m\u001b[0;34m,\u001b[0m \u001b[0mself\u001b[0m\u001b[0;34m.\u001b[0m\u001b[0m_mask\u001b[0m\u001b[0;34m,\u001b[0m \u001b[0mmask\u001b[0m\u001b[0;34m)\u001b[0m\u001b[0;34m\u001b[0m\u001b[0;34m\u001b[0m\u001b[0m\n\u001b[1;32m    592\u001b[0m         \u001b[0;32melif\u001b[0m \u001b[0mop\u001b[0m\u001b[0;34m.\u001b[0m\u001b[0m__name__\u001b[0m \u001b[0;32min\u001b[0m \u001b[0;34m{\u001b[0m\u001b[0;34m\"and_\"\u001b[0m\u001b[0;34m,\u001b[0m \u001b[0;34m\"rand_\"\u001b[0m\u001b[0;34m}\u001b[0m\u001b[0;34m:\u001b[0m\u001b[0;34m\u001b[0m\u001b[0;34m\u001b[0m\u001b[0m\n\u001b[0;32m--> 593\u001b[0;31m             \u001b[0mresult\u001b[0m\u001b[0;34m,\u001b[0m \u001b[0mmask\u001b[0m \u001b[0;34m=\u001b[0m \u001b[0mops\u001b[0m\u001b[0;34m.\u001b[0m\u001b[0mkleene_and\u001b[0m\u001b[0;34m(\u001b[0m\u001b[0mself\u001b[0m\u001b[0;34m.\u001b[0m\u001b[0m_data\u001b[0m\u001b[0;34m,\u001b[0m \u001b[0mother\u001b[0m\u001b[0;34m,\u001b[0m \u001b[0mself\u001b[0m\u001b[0;34m.\u001b[0m\u001b[0m_mask\u001b[0m\u001b[0;34m,\u001b[0m \u001b[0mmask\u001b[0m\u001b[0;34m)\u001b[0m\u001b[0;34m\u001b[0m\u001b[0;34m\u001b[0m\u001b[0m\n\u001b[0m\u001b[1;32m    594\u001b[0m         \u001b[0;32melif\u001b[0m \u001b[0mop\u001b[0m\u001b[0;34m.\u001b[0m\u001b[0m__name__\u001b[0m \u001b[0;32min\u001b[0m \u001b[0;34m{\u001b[0m\u001b[0;34m\"xor\"\u001b[0m\u001b[0;34m,\u001b[0m \u001b[0;34m\"rxor\"\u001b[0m\u001b[0;34m}\u001b[0m\u001b[0;34m:\u001b[0m\u001b[0;34m\u001b[0m\u001b[0;34m\u001b[0m\u001b[0m\n\u001b[1;32m    595\u001b[0m             \u001b[0mresult\u001b[0m\u001b[0;34m,\u001b[0m \u001b[0mmask\u001b[0m \u001b[0;34m=\u001b[0m \u001b[0mops\u001b[0m\u001b[0;34m.\u001b[0m\u001b[0mkleene_xor\u001b[0m\u001b[0;34m(\u001b[0m\u001b[0mself\u001b[0m\u001b[0;34m.\u001b[0m\u001b[0m_data\u001b[0m\u001b[0;34m,\u001b[0m \u001b[0mother\u001b[0m\u001b[0;34m,\u001b[0m \u001b[0mself\u001b[0m\u001b[0;34m.\u001b[0m\u001b[0m_mask\u001b[0m\u001b[0;34m,\u001b[0m \u001b[0mmask\u001b[0m\u001b[0;34m)\u001b[0m\u001b[0;34m\u001b[0m\u001b[0;34m\u001b[0m\u001b[0m\n",
      "\u001b[0;32m~/Library/Python/3.8/lib/python/site-packages/pandas/core/ops/mask_ops.py\u001b[0m in \u001b[0;36mkleene_and\u001b[0;34m(left, right, left_mask, right_mask)\u001b[0m\n\u001b[1;32m    169\u001b[0m         \u001b[0mleft_false\u001b[0m \u001b[0;34m=\u001b[0m \u001b[0;34m~\u001b[0m\u001b[0;34m(\u001b[0m\u001b[0mleft\u001b[0m \u001b[0;34m|\u001b[0m \u001b[0mleft_mask\u001b[0m\u001b[0;34m)\u001b[0m\u001b[0;34m\u001b[0m\u001b[0;34m\u001b[0m\u001b[0m\n\u001b[1;32m    170\u001b[0m         \u001b[0mright_false\u001b[0m \u001b[0;34m=\u001b[0m \u001b[0;34m~\u001b[0m\u001b[0;34m(\u001b[0m\u001b[0mright\u001b[0m \u001b[0;34m|\u001b[0m \u001b[0mright_mask\u001b[0m\u001b[0;34m)\u001b[0m\u001b[0;34m\u001b[0m\u001b[0;34m\u001b[0m\u001b[0m\n\u001b[0;32m--> 171\u001b[0;31m         \u001b[0mmask\u001b[0m \u001b[0;34m=\u001b[0m \u001b[0;34m(\u001b[0m\u001b[0mleft_mask\u001b[0m \u001b[0;34m&\u001b[0m \u001b[0;34m~\u001b[0m\u001b[0mright_false\u001b[0m\u001b[0;34m)\u001b[0m \u001b[0;34m|\u001b[0m \u001b[0;34m(\u001b[0m\u001b[0mright_mask\u001b[0m \u001b[0;34m&\u001b[0m \u001b[0;34m~\u001b[0m\u001b[0mleft_false\u001b[0m\u001b[0;34m)\u001b[0m\u001b[0;34m\u001b[0m\u001b[0;34m\u001b[0m\u001b[0m\n\u001b[0m\u001b[1;32m    172\u001b[0m \u001b[0;34m\u001b[0m\u001b[0m\n\u001b[1;32m    173\u001b[0m     \u001b[0;32mreturn\u001b[0m \u001b[0mresult\u001b[0m\u001b[0;34m,\u001b[0m \u001b[0mmask\u001b[0m\u001b[0;34m\u001b[0m\u001b[0;34m\u001b[0m\u001b[0m\n",
      "\u001b[0;31mKeyboardInterrupt\u001b[0m: "
     ]
    }
   ],
   "source": [
    "missing = {}\n",
    "num_missing = 0\n",
    "for msg_id in msg_ids:\n",
    "    for receiver in devices:\n",
    "        entries = df[(df['receiver'] == receiver) & (df['msg_id'] == msg_id)]\n",
    "        if (len(entries) == 0):\n",
    "            if (msg_id in missing):\n",
    "                missing[msg_id] += [receiver]\n",
    "            else:\n",
    "                missing[msg_id] = [receiver]\n"
   ]
  },
  {
   "cell_type": "code",
   "execution_count": null,
   "metadata": {},
   "outputs": [],
   "source": [
    "print('{num_missing} / {total} messages were not delivered to all nodes'.format(\n",
    "    num_missing=len(missing), total=len(msg_ids)))\n",
    "\n",
    "print(missing)"
   ]
  },
  {
   "cell_type": "markdown",
   "metadata": {},
   "source": [
    "## Message Delivery Time\n",
    "\n",
    "- Does it matter what time it is in the simulation? i.e. is it more congested later on and then takes longer to deliver?"
   ]
  },
  {
   "cell_type": "code",
   "execution_count": 123,
   "metadata": {},
   "outputs": [],
   "source": [
    "# TODO this assumes that the rows are sorted on time (i think they are...)\n",
    "def cdf_received_points(sender_id, msg_id):\n",
    "\n",
    "    received = set()\n",
    "    received.add(sender_id)\n",
    "\n",
    "    time_series = df[df['msg_id'] == msg_id][['receiver', 'time']]\n",
    "    \n",
    "    start_time = time_series['time'].iloc[0]\n",
    "\n",
    "    points = {}\n",
    "    count = 1 # sender already added\n",
    "\n",
    "    for receiver, time in time_series.values:\n",
    "        time -= start_time\n",
    "        # not already received\n",
    "        if (receiver not in received):\n",
    "            received.add(receiver)\n",
    "            count += 1\n",
    "        points[time] = count\n",
    "\n",
    "    points_list = [(k, points[k]) for k in sorted(points, key=points.get, reverse=False)]\n",
    "    xs, ys = zip(*points_list)\n",
    "\n",
    "    xs = [x / 1000 for x in xs]\n",
    "    ys = [100 * y / NUM_DEVICES for y in ys]\n",
    "    \n",
    "    return xs, ys"
   ]
  },
  {
   "cell_type": "code",
   "execution_count": 73,
   "metadata": {},
   "outputs": [],
   "source": [
    "sender_message_pairs = df.groupby('msg_id').first().reset_index()[['sender', 'msg_id']].values"
   ]
  },
  {
   "cell_type": "code",
   "execution_count": 131,
   "metadata": {},
   "outputs": [],
   "source": [
    "def plot_group_received_points(sender_message_pairs, start, end):\n",
    "    fig = plt.figure()\n",
    "    ax = fig.add_subplot(1, 1, 1)\n",
    "    ax.set_xlabel('seconds')\n",
    "    ax.set_ylabel('% devices')\n",
    "    ax.set_title('Message Delivery CDF')\n",
    "    \n",
    "    cmap = plt.cm.get_cmap('hsv', end - start)\n",
    "    for idx in range(start, end):\n",
    "        xs, ys = cdf_received_points(sender_message_pairs[idx][0], sender_message_pairs[idx][1])\n",
    "        ax.step(xs, ys, color=cmap(idx))\n",
    "    plt.savefig(FIGURES_PATH + 'message_deliver_cdf.png')\n",
    "    plt.show()"
   ]
  },
  {
   "cell_type": "code",
   "execution_count": 140,
   "metadata": {},
   "outputs": [
    {
     "data": {
      "image/png": "[encoded data removed]",
      "text/plain": [
       "<Figure size 432x288 with 1 Axes>"
      ]
     },
     "metadata": {
      "needs_background": "light"
     },
     "output_type": "display_data"
    }
   ],
   "source": [
    "plot_group_received_points(sender_message_pairs, 100, 150)"
   ]
  },
  {
   "cell_type": "code",
   "execution_count": 114,
   "metadata": {},
   "outputs": [
    {
     "data": {
      "text/html": [
       "<div>\n",
       "<style scoped>\n",
       "    .dataframe tbody tr th:only-of-type {\n",
       "        vertical-align: middle;\n",
       "    }\n",
       "\n",
       "    .dataframe tbody tr th {\n",
       "        vertical-align: top;\n",
       "    }\n",
       "\n",
       "    .dataframe thead th {\n",
       "        text-align: right;\n",
       "    }\n",
       "</style>\n",
       "<table border=\"1\" class=\"dataframe\">\n",
       "  <thead>\n",
       "    <tr style=\"text-align: right;\">\n",
       "      <th></th>\n",
       "      <th>sender</th>\n",
       "      <th>receiver</th>\n",
       "      <th>type</th>\n",
       "      <th>msg_id</th>\n",
       "      <th>transimission_id</th>\n",
       "      <th>size</th>\n",
       "      <th>time</th>\n",
       "      <th>sim_id</th>\n",
       "    </tr>\n",
       "  </thead>\n",
       "  <tbody>\n",
       "    <tr>\n",
       "      <th>3065874</th>\n",
       "      <td>836</td>\n",
       "      <td>803</td>\n",
       "      <td>msg</td>\n",
       "      <td>412</td>\n",
       "      <td>310806</td>\n",
       "      <td>384</td>\n",
       "      <td>47900</td>\n",
       "      <td>7415980</td>\n",
       "    </tr>\n",
       "    <tr>\n",
       "      <th>3065875</th>\n",
       "      <td>836</td>\n",
       "      <td>804</td>\n",
       "      <td>msg</td>\n",
       "      <td>412</td>\n",
       "      <td>310806</td>\n",
       "      <td>384</td>\n",
       "      <td>47900</td>\n",
       "      <td>7415980</td>\n",
       "    </tr>\n",
       "    <tr>\n",
       "      <th>3065876</th>\n",
       "      <td>836</td>\n",
       "      <td>867</td>\n",
       "      <td>msg</td>\n",
       "      <td>412</td>\n",
       "      <td>310806</td>\n",
       "      <td>384</td>\n",
       "      <td>47900</td>\n",
       "      <td>7415980</td>\n",
       "    </tr>\n",
       "    <tr>\n",
       "      <th>3065877</th>\n",
       "      <td>836</td>\n",
       "      <td>866</td>\n",
       "      <td>msg</td>\n",
       "      <td>412</td>\n",
       "      <td>310806</td>\n",
       "      <td>384</td>\n",
       "      <td>47900</td>\n",
       "      <td>7415980</td>\n",
       "    </tr>\n",
       "    <tr>\n",
       "      <th>3065878</th>\n",
       "      <td>836</td>\n",
       "      <td>835</td>\n",
       "      <td>msg</td>\n",
       "      <td>412</td>\n",
       "      <td>310806</td>\n",
       "      <td>384</td>\n",
       "      <td>47900</td>\n",
       "      <td>7415980</td>\n",
       "    </tr>\n",
       "    <tr>\n",
       "      <th>...</th>\n",
       "      <td>...</td>\n",
       "      <td>...</td>\n",
       "      <td>...</td>\n",
       "      <td>...</td>\n",
       "      <td>...</td>\n",
       "      <td>...</td>\n",
       "      <td>...</td>\n",
       "      <td>...</td>\n",
       "    </tr>\n",
       "    <tr>\n",
       "      <th>29110085</th>\n",
       "      <td>486</td>\n",
       "      <td>456</td>\n",
       "      <td>msg</td>\n",
       "      <td>412</td>\n",
       "      <td>2961658</td>\n",
       "      <td>384</td>\n",
       "      <td>275300</td>\n",
       "      <td>7415980</td>\n",
       "    </tr>\n",
       "    <tr>\n",
       "      <th>29110086</th>\n",
       "      <td>486</td>\n",
       "      <td>487</td>\n",
       "      <td>msg</td>\n",
       "      <td>412</td>\n",
       "      <td>2961658</td>\n",
       "      <td>384</td>\n",
       "      <td>275300</td>\n",
       "      <td>7415980</td>\n",
       "    </tr>\n",
       "    <tr>\n",
       "      <th>29110087</th>\n",
       "      <td>486</td>\n",
       "      <td>455</td>\n",
       "      <td>msg</td>\n",
       "      <td>412</td>\n",
       "      <td>2961658</td>\n",
       "      <td>384</td>\n",
       "      <td>275300</td>\n",
       "      <td>7415980</td>\n",
       "    </tr>\n",
       "    <tr>\n",
       "      <th>29110088</th>\n",
       "      <td>486</td>\n",
       "      <td>518</td>\n",
       "      <td>msg</td>\n",
       "      <td>412</td>\n",
       "      <td>2961658</td>\n",
       "      <td>384</td>\n",
       "      <td>275300</td>\n",
       "      <td>7415980</td>\n",
       "    </tr>\n",
       "    <tr>\n",
       "      <th>29110089</th>\n",
       "      <td>486</td>\n",
       "      <td>519</td>\n",
       "      <td>msg</td>\n",
       "      <td>412</td>\n",
       "      <td>2961658</td>\n",
       "      <td>384</td>\n",
       "      <td>275300</td>\n",
       "      <td>7415980</td>\n",
       "    </tr>\n",
       "  </tbody>\n",
       "</table>\n",
       "<p>3458 rows × 8 columns</p>\n",
       "</div>"
      ],
      "text/plain": [
       "          sender  receiver type  msg_id  transimission_id  size    time  \\\n",
       "3065874      836       803  msg     412            310806   384   47900   \n",
       "3065875      836       804  msg     412            310806   384   47900   \n",
       "3065876      836       867  msg     412            310806   384   47900   \n",
       "3065877      836       866  msg     412            310806   384   47900   \n",
       "3065878      836       835  msg     412            310806   384   47900   \n",
       "...          ...       ...  ...     ...               ...   ...     ...   \n",
       "29110085     486       456  msg     412           2961658   384  275300   \n",
       "29110086     486       487  msg     412           2961658   384  275300   \n",
       "29110087     486       455  msg     412           2961658   384  275300   \n",
       "29110088     486       518  msg     412           2961658   384  275300   \n",
       "29110089     486       519  msg     412           2961658   384  275300   \n",
       "\n",
       "           sim_id  \n",
       "3065874   7415980  \n",
       "3065875   7415980  \n",
       "3065876   7415980  \n",
       "3065877   7415980  \n",
       "3065878   7415980  \n",
       "...           ...  \n",
       "29110085  7415980  \n",
       "29110086  7415980  \n",
       "29110087  7415980  \n",
       "29110088  7415980  \n",
       "29110089  7415980  \n",
       "\n",
       "[3458 rows x 8 columns]"
      ]
     },
     "execution_count": 114,
     "metadata": {},
     "output_type": "execute_result"
    }
   ],
   "source": [
    "# TODO why is the x axis sometimes super long (takes long time to deliver?)\n",
    "weird_id = sender_message_pairs[82][1]\n",
    "df[df['msg_id'] == weird_id]"
   ]
  },
  {
   "cell_type": "markdown",
   "metadata": {},
   "source": [
    "## Loops\n",
    "- Does an original sender ever receive their own message?\n",
    "    - this is actually allowed:\n",
    "    \n",
    "    Imagine A sends x to all neighbors. B receives x. C becomes a neighbor of A and does not have x. C asks B for x. B broadcasts x and A hears it.\n",
    "    \n",
    "    \n",
    "- What we actually want to look at here is how long a message can be alive in the network and can one of the above loops happen after A has expired x.\n",
    "\n",
    "    - look for A sends x and more than 5 minutes later A receives x\n",
    "    - one way to think about this is \"how often to messages take more than 5 minutes to deliver?\""
   ]
  },
  {
   "cell_type": "code",
   "execution_count": null,
   "metadata": {},
   "outputs": [],
   "source": []
  },
  {
   "cell_type": "markdown",
   "metadata": {},
   "source": [
    "## 95th percentile Scaling + Distance\n",
    "\n",
    "make graph:\n",
    "\n",
    "    x axis: number of people\n",
    "\n",
    "    y axis: 90/5th percentile communication bandwidth\n",
    "        do this for 3 ft apart, 5 ft apart, etc\n"
   ]
  },
  {
   "cell_type": "code",
   "execution_count": 178,
   "metadata": {},
   "outputs": [],
   "source": [
    "people = [100, 200, 300, 400, 500, 600, 700, 800, 900]\n",
    "\n",
    "dfs = [read_messages('../python/processing/logs/minutes_{minutes}_numDevices_{num_devices}_bitListInterval_{bitlist_interval}_move_{move}_uniform_{uniform}_uniformSpacing_{uniform_spacing}_sendRate_{send_rate}/'.format(\n",
    "    minutes=MINUTES, \n",
    "    num_devices=people, \n",
    "    bitlist_interval=BITLIST_INTERVAL, \n",
    "    move=MOVE, \n",
    "    uniform=UNIFORM, \n",
    "    uniform_spacing=UNIFORM_SPACING, \n",
    "    send_rate=SEND_RATE)) for num_people in people]\n"
   ]
  },
  {
   "cell_type": "code",
   "execution_count": 179,
   "metadata": {},
   "outputs": [],
   "source": [
    "incoming_bandwidths = [get_incoming_bandwidth(data) for data in dfs]\n",
    "incoming_highs = [data['MB'].quantile(0.9) for data in incoming_bandwidths]"
   ]
  },
  {
   "cell_type": "code",
   "execution_count": 180,
   "metadata": {},
   "outputs": [
    {
     "data": {
      "image/png": "[encoded data removed]",
      "text/plain": [
       "<Figure size 432x288 with 1 Axes>"
      ]
     },
     "metadata": {
      "needs_background": "light"
     },
     "output_type": "display_data"
    }
   ],
   "source": [
    "plt.plot(people, incoming_highs)\n",
    "plt.show()"
   ]
  },
  {
   "cell_type": "markdown",
   "metadata": {},
   "source": [
    "## Normal Distribution Parameters"
   ]
  },
  {
   "cell_type": "code",
   "execution_count": 168,
   "metadata": {},
   "outputs": [
    {
     "data": {
      "image/png": "[encoded data removed]",
      "text/plain": [
       "<Figure size 432x288 with 1 Axes>"
      ]
     },
     "metadata": {
      "needs_background": "light"
     },
     "output_type": "display_data"
    }
   ],
   "source": [
    "mean = 0\n",
    "sd = 200\n",
    "num_people = 1000\n",
    "points = [(random.gauss(mean, sd), random.gauss(mean, sd)) for _ in range(num_people)]\n",
    "xs, ys = zip(*points)\n",
    "plt.grid(True)\n",
    "plt.scatter(xs, ys)\n",
    "plt.show()"
   ]
  },
  {
   "cell_type": "code",
   "execution_count": null,
   "metadata": {},
   "outputs": [],
   "source": []
  }
 ],
 "metadata": {
  "kernelspec": {
   "display_name": "Python 3",
   "language": "python",
   "name": "python3"
  },
  "language_info": {
   "codemirror_mode": {
    "name": "ipython",
    "version": 3
   },
   "file_extension": ".py",
   "mimetype": "text/x-python",
   "name": "python",
   "nbconvert_exporter": "python",
   "pygments_lexer": "ipython3",
   "version": "3.8.2"
  }
 },
 "nbformat": 4,
 "nbformat_minor": 4
}

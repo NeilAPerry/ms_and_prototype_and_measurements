{
 "cells": [
  {
   "cell_type": "markdown",
   "id": "65411396",
   "metadata": {},
   "source": [
    "## Poisson + Uniform"
   ]
  },
  {
   "cell_type": "code",
   "execution_count": 73,
   "id": "ed5301e8",
   "metadata": {},
   "outputs": [],
   "source": [
    "import numpy as np\n",
    "import scipy.stats as ss\n",
    "from matplotlib import pyplot as plt"
   ]
  },
  {
   "cell_type": "code",
   "execution_count": 74,
   "id": "2087bf9e",
   "metadata": {},
   "outputs": [],
   "source": [
    "sending_interval = 30000"
   ]
  },
  {
   "cell_type": "code",
   "execution_count": 75,
   "id": "245fce04",
   "metadata": {},
   "outputs": [],
   "source": [
    "# p_values = []\n",
    "# for i in range(0, 1000000, 10):\n",
    "#     poissons = np.random.poisson(i, 10000)\n",
    "#     poissons_modded = [p % sending_interval for p in poissons]\n",
    "#     maybe_uniform = [p + np.random.randint(0, sending_interval) for p in poissons_modded]\n",
    "#     res = ss.kstest(maybe_uniform, ss.randint.cdf, args=(0,sending_interval))\n",
    "#     p_values.append(res.pvalue)"
   ]
  },
  {
   "cell_type": "code",
   "execution_count": 76,
   "id": "c66925c1",
   "metadata": {},
   "outputs": [],
   "source": [
    "# max(p_values)"
   ]
  },
  {
   "cell_type": "code",
   "execution_count": 77,
   "id": "13515d1e",
   "metadata": {},
   "outputs": [],
   "source": [
    "num_joins = 20000"
   ]
  },
  {
   "cell_type": "code",
   "execution_count": 78,
   "id": "83d74439",
   "metadata": {},
   "outputs": [],
   "source": [
    "poissons = np.random.poisson(num_joins, 100000)\n",
    "poissons_modded = [p % sending_interval for p in poissons]\n",
    "maybe_uniform = [p + np.random.randint(0, sending_interval) for p in poissons_modded]\n",
    "maybe_uniform_modded = [m % sending_interval for m in maybe_uniform]"
   ]
  },
  {
   "cell_type": "code",
   "execution_count": 79,
   "id": "a76546c6",
   "metadata": {},
   "outputs": [
    {
     "data": {
      "text/plain": [
       "KstestResult(statistic=0.002406666666666668, pvalue=0.6077089696815583)"
      ]
     },
     "execution_count": 79,
     "metadata": {},
     "output_type": "execute_result"
    }
   ],
   "source": [
    "ss.kstest(maybe_uniform_modded, ss.randint.cdf, args=(0,sending_interval))"
   ]
  },
  {
   "cell_type": "code",
   "execution_count": 80,
   "id": "cbfd6bce",
   "metadata": {},
   "outputs": [
    {
     "data": {
      "text/plain": [
       "(array([ 9993., 10187., 10032.,  9883.,  9952.,  9976.,  9812., 10144.,\n",
       "         9978., 10043.]),\n",
       " array([    0. ,  2999.9,  5999.8,  8999.7, 11999.6, 14999.5, 17999.4,\n",
       "        20999.3, 23999.2, 26999.1, 29999. ]),\n",
       " <BarContainer object of 10 artists>)"
      ]
     },
     "execution_count": 80,
     "metadata": {},
     "output_type": "execute_result"
    },
    {
     "data": {
      "image/png": "[encoded data removed]",
      "text/plain": [
       "<Figure size 432x288 with 1 Axes>"
      ]
     },
     "metadata": {
      "needs_background": "light"
     },
     "output_type": "display_data"
    }
   ],
   "source": [
    "plt.hist(maybe_uniform_modded)"
   ]
  },
  {
   "cell_type": "code",
   "execution_count": null,
   "id": "5a226fb0",
   "metadata": {},
   "outputs": [],
   "source": []
  }
 ],
 "metadata": {
  "kernelspec": {
   "display_name": "Python 3",
   "language": "python",
   "name": "python3"
  },
  "language_info": {
   "codemirror_mode": {
    "name": "ipython",
    "version": 3
   },
   "file_extension": ".py",
   "mimetype": "text/x-python",
   "name": "python",
   "nbconvert_exporter": "python",
   "pygments_lexer": "ipython3",
   "version": "3.8.2"
  }
 },
 "nbformat": 4,
 "nbformat_minor": 5
}

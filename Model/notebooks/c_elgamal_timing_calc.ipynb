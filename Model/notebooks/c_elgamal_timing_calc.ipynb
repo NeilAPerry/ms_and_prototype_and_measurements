{
 "cells": [
  {
   "cell_type": "code",
   "execution_count": 100,
   "metadata": {},
   "outputs": [],
   "source": [
    "def read_measurements(fp, skip_length):\n",
    "    dec_timings = []\n",
    "    for line in fp:\n",
    "        # skip empty lines (1 for \\n)\n",
    "        if len(line) == 0 or len(line) == 1:\n",
    "            continue\n",
    "\n",
    "        # remove end from beginning of line\n",
    "        line = line[skip_length:].strip()\n",
    "        dec_timings.append(int(line))\n",
    "            \n",
    "    return dec_timings"
   ]
  },
  {
   "cell_type": "code",
   "execution_count": 101,
   "metadata": {},
   "outputs": [],
   "source": [
    "PIXEL1_FILE = \"pixel1_fixed.txt\"\n",
    "PIXEL4_FILE = \"pixel4_fixed.txt\"\n",
    "\n",
    "DIR_PATH = \"./cryptography_timings/hybrid/\"\n",
    "\n",
    "ELGAMAL_SKIP_LENGTH = len(\"___ time: \")\n",
    "\n",
    "with open(DIR_PATH + PIXEL1_FILE) as fp:\n",
    "    pixel1_dec_timings = read_measurements(fp, ELGAMAL_SKIP_LENGTH)\n",
    "\n",
    "with open(DIR_PATH + PIXEL4_FILE) as fp:\n",
    "    pixel4_dec_timings = read_measurements(fp, ELGAMAL_SKIP_LENGTH)\n"
   ]
  },
  {
   "cell_type": "code",
   "execution_count": 102,
   "metadata": {},
   "outputs": [],
   "source": [
    "pixel1_avg_dec = sum(pixel1_dec_timings) / len(pixel1_dec_timings)\n",
    "\n",
    "pixel4_avg_dec = sum(pixel4_dec_timings) / len(pixel4_dec_timings)"
   ]
  },
  {
   "cell_type": "code",
   "execution_count": 103,
   "metadata": {},
   "outputs": [
    {
     "data": {
      "text/plain": [
       "566040.23"
      ]
     },
     "metadata": {},
     "output_type": "display_data"
    },
    {
     "data": {
      "text/plain": [
       "1345269.726"
      ]
     },
     "metadata": {},
     "output_type": "display_data"
    }
   ],
   "source": [
    "display(pixel1_avg_dec)\n",
    "display(pixel4_avg_dec)"
   ]
  },
  {
   "cell_type": "markdown",
   "metadata": {},
   "source": [
    "# Ms Averages"
   ]
  },
  {
   "cell_type": "code",
   "execution_count": 104,
   "metadata": {},
   "outputs": [],
   "source": [
    "NS_IN_MS = 1000000\n",
    "\n",
    "pixel1_avg_dec_ms = pixel1_avg_dec / NS_IN_MS\n",
    "\n",
    "pixel4_avg_dec_ms = pixel4_avg_dec / NS_IN_MS"
   ]
  },
  {
   "cell_type": "code",
   "execution_count": 105,
   "metadata": {},
   "outputs": [
    {
     "name": "stdout",
     "output_type": "stream",
     "text": [
      "Average Pixel 1 decryption: 0.56604023 ms\n",
      "Average Pixel 4 decryption: 1.345269726 ms\n"
     ]
    }
   ],
   "source": [
    "print(\"Average Pixel 1 decryption: {dec} ms\".format(dec=pixel1_avg_dec_ms))\n",
    "\n",
    "print(\"Average Pixel 4 decryption: {dec} ms\".format(dec=pixel4_avg_dec_ms))"
   ]
  },
  {
   "cell_type": "markdown",
   "metadata": {},
   "source": [
    "# Bottleneck?"
   ]
  },
  {
   "cell_type": "code",
   "execution_count": 106,
   "metadata": {},
   "outputs": [
    {
     "data": {
      "text/plain": [
       "1766.6588821787454"
      ]
     },
     "execution_count": 106,
     "metadata": {},
     "output_type": "execute_result"
    }
   ],
   "source": [
    "MS_IN_S = 1000\n",
    "MSG_SIZE = 255\n",
    "BYTES_IN_1_4_MBITS = 175000\n",
    "\n",
    "pixel1_num_decs = MS_IN_S / pixel1_avg_dec_ms\n",
    "\n",
    "pixel1_num_decs"
   ]
  },
  {
   "cell_type": "code",
   "execution_count": 107,
   "metadata": {},
   "outputs": [
    {
     "data": {
      "text/plain": [
       "743.3453534804365"
      ]
     },
     "execution_count": 107,
     "metadata": {},
     "output_type": "execute_result"
    }
   ],
   "source": [
    "MS_IN_S = 1000\n",
    "MSG_SIZE = 255\n",
    "BYTES_IN_1_4_MBITS = 175000\n",
    "\n",
    "pixel4_num_decs = MS_IN_S / pixel4_avg_dec_ms\n",
    "\n",
    "pixel4_num_decs"
   ]
  },
  {
   "cell_type": "code",
   "execution_count": 108,
   "metadata": {},
   "outputs": [],
   "source": [
    "pixel1_bytes_per_sec = pixel1_num_decs * MSG_SIZE\n",
    "pixel4_bytes_per_sec = pixel4_num_decs * MSG_SIZE"
   ]
  },
  {
   "cell_type": "markdown",
   "metadata": {},
   "source": [
    "## Mb/s?"
   ]
  },
  {
   "cell_type": "code",
   "execution_count": 109,
   "metadata": {},
   "outputs": [],
   "source": [
    "BYTES_IN_1_MEGABIT = 125000"
   ]
  },
  {
   "cell_type": "code",
   "execution_count": 110,
   "metadata": {},
   "outputs": [
    {
     "data": {
      "text/plain": [
       "3.6039841196446405"
      ]
     },
     "execution_count": 110,
     "metadata": {},
     "output_type": "execute_result"
    }
   ],
   "source": [
    "pixel1_mbps = pixel1_bytes_per_sec / BYTES_IN_1_MEGABIT\n",
    "\n",
    "pixel1_mbps"
   ]
  },
  {
   "cell_type": "code",
   "execution_count": 111,
   "metadata": {},
   "outputs": [
    {
     "data": {
      "text/plain": [
       "1.5164245211000906"
      ]
     },
     "execution_count": 111,
     "metadata": {},
     "output_type": "execute_result"
    }
   ],
   "source": [
    "pixel4_mbps = pixel4_bytes_per_sec / BYTES_IN_1_MEGABIT\n",
    "\n",
    "pixel4_mbps"
   ]
  },
  {
   "cell_type": "markdown",
   "metadata": {},
   "source": [
    "## How many times the 1.4 Mb/s Bottleneck?"
   ]
  },
  {
   "cell_type": "code",
   "execution_count": 112,
   "metadata": {},
   "outputs": [
    {
     "data": {
      "text/plain": [
       "2.5742743711747433"
      ]
     },
     "execution_count": 112,
     "metadata": {},
     "output_type": "execute_result"
    }
   ],
   "source": [
    "pixel1_rate = pixel1_bytes_per_sec / BYTES_IN_1_4_MBITS\n",
    "\n",
    "pixel1_rate"
   ]
  },
  {
   "cell_type": "code",
   "execution_count": 113,
   "metadata": {},
   "outputs": [
    {
     "data": {
      "text/plain": [
       "1.0831603722143504"
      ]
     },
     "execution_count": 113,
     "metadata": {},
     "output_type": "execute_result"
    }
   ],
   "source": [
    "pixel4_rate = pixel4_bytes_per_sec / BYTES_IN_1_4_MBITS\n",
    "\n",
    "pixel4_rate"
   ]
  },
  {
   "cell_type": "markdown",
   "metadata": {},
   "source": [
    "## Can decrypt multiple times the network bottleneck (bluetooth), so decryption is not the bottleneck\n",
    "\n",
    "## It could be a bottleneck if wifi-direct was used"
   ]
  },
  {
   "cell_type": "code",
   "execution_count": null,
   "metadata": {},
   "outputs": [],
   "source": []
  }
 ],
 "metadata": {
  "kernelspec": {
   "display_name": "Python 3",
   "language": "python",
   "name": "python3"
  },
  "language_info": {
   "codemirror_mode": {
    "name": "ipython",
    "version": 3
   },
   "file_extension": ".py",
   "mimetype": "text/x-python",
   "name": "python",
   "nbconvert_exporter": "python",
   "pygments_lexer": "ipython3",
   "version": "3.8.2"
  }
 },
 "nbformat": 4,
 "nbformat_minor": 4
}
